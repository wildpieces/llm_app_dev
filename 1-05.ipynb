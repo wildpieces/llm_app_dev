{
 "cells": [
  {
   "cell_type": "markdown",
   "metadata": {},
   "source": [
    "# 05 GPU 효율적인 학습\n",
    "## 5.1 GPU에 올라가는 데이터 살펴보기\n",
    "<br>\n",
    "자주 발생하는 OOM 오류. GPU 메모리에 데이터가 가득 차 더 이상 새로운 데이터를 추가하지 못해 발생. <br>\n",
    "### 5.1.1 딥러닝 모델의 데이터 타입\n",
    "### 5.1.2 양자화로 모델 용량 줄이기\n",
    "양자화: 적은 비트로 모델을 표현. 양자화 기술에서는 더 적은 비트를 사용하면서도 원본 데이터의 정보를 최대한 소실 없이 유지하는 것이 핵심 <br>\n",
    "### 5.1.3 GPU 메모리 분해하기\n",
    "GPU 메모리에 저장되는 데이터\n",
    "- 모델 파라미터\n",
    "- 그레디언트(gradient)\n",
    "- 옵티마이저 상태(optimizer state)\n",
    "- 순전파 상태(forward activation)\n",
    "<br>\n",
    "fp16모델 기준, AdamW와 같은 옵티마이저 사용 시 학습에 필요한 최소한의 메모리\n",
    "- 모델 파라미터: 2바이트 * 파라미터 수(B, 10억 개) = N\n",
    "- 그레디언트: 2바이트 * 파라미터 수(B, 10억 개) = N\n",
    "- 옵티마이저 상태: 2바이트 "
   ]
  },
  {
   "cell_type": "code",
   "execution_count": null,
   "metadata": {},
   "outputs": [],
   "source": []
  }
 ],
 "metadata": {
  "kernelspec": {
   "display_name": "Python (Default)",
   "language": "python",
   "name": "python-default"
  },
  "language_info": {
   "codemirror_mode": {
    "name": "ipython",
    "version": 3
   },
   "file_extension": ".py",
   "mimetype": "text/x-python",
   "name": "python",
   "nbconvert_exporter": "python",
   "pygments_lexer": "ipython3",
   "version": "3.12.8"
  }
 },
 "nbformat": 4,
 "nbformat_minor": 2
}
